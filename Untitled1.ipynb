{
 "cells": [
  {
   "cell_type": "code",
   "execution_count": 1,
   "metadata": {},
   "outputs": [
    {
     "name": "stdout",
     "output_type": "stream",
     "text": [
      "Requirement already satisfied: tmdbsimple in /Users/sandrawelbeck/opt/anaconda3/envs/learn-env/lib/python3.6/site-packages (2.6.6)\n",
      "Requirement already satisfied: requests in /Users/sandrawelbeck/opt/anaconda3/envs/learn-env/lib/python3.6/site-packages (from tmdbsimple) (2.24.0)\n",
      "Requirement already satisfied: certifi>=2017.4.17 in /Users/sandrawelbeck/opt/anaconda3/envs/learn-env/lib/python3.6/site-packages (from requests->tmdbsimple) (2020.6.20)\n",
      "Requirement already satisfied: urllib3!=1.25.0,!=1.25.1,<1.26,>=1.21.1 in /Users/sandrawelbeck/opt/anaconda3/envs/learn-env/lib/python3.6/site-packages (from requests->tmdbsimple) (1.25.10)\n",
      "Requirement already satisfied: idna<3,>=2.5 in /Users/sandrawelbeck/opt/anaconda3/envs/learn-env/lib/python3.6/site-packages (from requests->tmdbsimple) (2.10)\n",
      "Requirement already satisfied: chardet<4,>=3.0.2 in /Users/sandrawelbeck/opt/anaconda3/envs/learn-env/lib/python3.6/site-packages (from requests->tmdbsimple) (3.0.4)\n"
     ]
    }
   ],
   "source": [
    "!pip install tmdbsimple\n"
   ]
  },
  {
   "cell_type": "code",
   "execution_count": 2,
   "metadata": {},
   "outputs": [],
   "source": [
    "import tmdbsimple as tmdb\n",
    "tmdb.API_KEY = \"a033e140831df183efc1df7cc9e60d21\""
   ]
  },
  {
   "cell_type": "code",
   "execution_count": 3,
   "metadata": {},
   "outputs": [
    {
     "name": "stdout",
     "output_type": "stream",
     "text": [
      "['APIKeyError', 'API_KEY', 'API_VERSION', 'Account', 'Authentication', 'Certifications', 'Changes', 'Collections', 'Companies', 'Configuration', 'Credits', 'Discover', 'Find', 'Genres', 'GuestSessions', 'Keywords', 'Lists', 'Movies', 'Networks', 'People', 'Reviews', 'Search', 'TV', 'TV_Changes', 'TV_Episode_Groups', 'TV_Episodes', 'TV_Seasons', 'Trending', '__all__', '__author__', '__builtins__', '__cached__', '__copyright__', '__doc__', '__file__', '__license__', '__loader__', '__name__', '__package__', '__path__', '__spec__', '__title__', '__version__', 'account', 'base', 'changes', 'configuration', 'discover', 'find', 'genres', 'movies', 'os', 'people', 'search', 'tv']\n"
     ]
    }
   ],
   "source": [
    "print(dir(tmdb))"
   ]
  },
  {
   "cell_type": "code",
   "execution_count": 16,
   "metadata": {},
   "outputs": [
    {
     "data": {
      "text/plain": [
       "<module 'tmdbsimple.discover' from '/Users/sandrawelbeck/opt/anaconda3/envs/learn-env/lib/python3.6/site-packages/tmdbsimple/discover.py'>"
      ]
     },
     "execution_count": 16,
     "metadata": {},
     "output_type": "execute_result"
    }
   ],
   "source": [
    "tmdb.discover"
   ]
  },
  {
   "cell_type": "code",
   "execution_count": null,
   "metadata": {},
   "outputs": [],
   "source": []
  }
 ],
 "metadata": {
  "kernelspec": {
   "display_name": "Python 3",
   "language": "python",
   "name": "python3"
  },
  "language_info": {
   "codemirror_mode": {
    "name": "ipython",
    "version": 3
   },
   "file_extension": ".py",
   "mimetype": "text/x-python",
   "name": "python",
   "nbconvert_exporter": "python",
   "pygments_lexer": "ipython3",
   "version": "3.6.9"
  },
  "toc": {
   "base_numbering": 1,
   "nav_menu": {},
   "number_sections": true,
   "sideBar": true,
   "skip_h1_title": false,
   "title_cell": "Table of Contents",
   "title_sidebar": "Contents",
   "toc_cell": false,
   "toc_position": {},
   "toc_section_display": true,
   "toc_window_display": false
  }
 },
 "nbformat": 4,
 "nbformat_minor": 4
}
