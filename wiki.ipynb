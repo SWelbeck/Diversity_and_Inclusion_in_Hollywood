{
 "cells": [
  {
   "cell_type": "code",
   "execution_count": 1,
   "metadata": {},
   "outputs": [],
   "source": [
    "import pandas as pd\n",
    "import numpy as np\n",
    "import requests\n",
    "import json\n",
    "#from yelp.client import Client\n",
    "import matplotlib.pyplot as plt\n",
    "plt.style.use('seaborn')"
   ]
  },
  {
   "cell_type": "code",
   "execution_count": 31,
   "metadata": {},
   "outputs": [],
   "source": [
    "url = \"https://en.wikipedia.org/w/api.php?action=query&prop=extracts&titles=List_of_2020_box_office_number-one_films_in_the_United_States&explaintext=1&exsectionformat=wiki\"\n",
    "response = requests.get(url)"
   ]
  },
  {
   "cell_type": "code",
   "execution_count": 32,
   "metadata": {},
   "outputs": [
    {
     "data": {
      "text/plain": [
       "200"
      ]
     },
     "execution_count": 32,
     "metadata": {},
     "output_type": "execute_result"
    }
   ],
   "source": [
    "response.status_code"
   ]
  },
  {
   "cell_type": "code",
   "execution_count": 39,
   "metadata": {},
   "outputs": [
    {
     "data": {
      "text/plain": [
       "'<!DOCTYPE html>\\n<html class=\"client-nojs\" lang=\"en\" dir=\"ltr\">\\n<head>\\n<meta charset=\"UTF-8\"/>\\n<title>MediaWiki API result - Wikipedia</title>\\n<script>document.documentElement.className=\"client-js\";RLCONF={\"wgBreakFrames\":!1,\"wgSeparatorTransformTable\":[\"\",\"\"],\"wgDigitTransformTable\":[\"\",\"\"],\"wgDefaultDateFormat\":\"dmy\",\"wgMonthNames\":[\"\",\"January\",\"February\",\"March\",\"April\",\"May\",\"June\",\"July\",\"August\",\"September\",\"October\",\"November\",\"December\"],\"wgRequestId\":\"eaf7a3b9-ec1d-43ca-8131-78f6a8219399\",\"wgCSPNonce\":!1,\"wgCanonicalNamespace\":\"Special\",\"wgCanonicalSpecialPageName\":\"ApiHelp\",\"wgNamespaceNumber\":-1,\"wgPageName\":\"Special:ApiHelp\",\"wgTitle\":\"ApiHelp\",\"wgCurRevisionId\":0,\"wgRevisionId\":0,\"wgArticleId\":0,\"wgIsArticle\":!1,\"wgIsRedirect\":!1,\"wgAction\":\"view\",\"wgUserName\":null,\"wgUserGroups\":[\"*\"],\"wgCategories\":[],\"wgPageContentLanguage\":\"en\",\"wgPageContentModel\":\"wikitext\",\"wgRelevantPageName\":\"Special:ApiHelp\",\"wgRelevantArticleId\":0,\"wgIsProbablyEditable\":!1,\"wgRelevantPageIsProbablyEditable\":!1,\"wgMediaViewerOnClick\":!0,\"wgMediaViewerEnabledByDefault\":!0,\"wgPopupsReferencePreviews\":!1,\\n\"wgPopupsConflictsWithNavPopupGadget\":!1,\"wgVisualEditor\":{\"pageLanguageCode\":\"en\",\"pageLanguageDir\":\"ltr\",\"pageVariantFallbacks\":\"en\"},\"wgMFDisplayWikibaseDescriptions\":{\"search\":!0,\"nearby\":!0,\"watchlist\":!0,\"tagline\":!1},\"wgWMESchemaEditAttemptStepOversample\":!1,\"wgULSCurrentAutonym\":\"English\",\"wgNoticeProject\":\"wikipedia\",\"wgCentralAuthMobileDomain\":!1,\"wgEditSubmitButtonLabelPublish\":!0,\"wgULSPosition\":\"interlanguage\"};RLSTATE={\"ext.globalCssJs.user.styles\":\"ready\",\"site.styles\":\"ready\",\"noscript\":\"ready\",\"user.styles\":\"ready\",\"ext.globalCssJs.user\":\"ready\",\"user\":\"ready\",\"user.options\":\"loading\",\"mediawiki.apipretty\":\"ready\",\"ext.pygments\":\"ready\",\"mediawiki.skinning.interface\":\"ready\",\"ext.visualEditor.desktopArticleTarget.noscript\":\"ready\",\"ext.uls.interlanguage\":\"ready\",\"ext.wikimediaBadges\":\"ready\"};RLPAGEMODULES=[\"site\",\"mediawiki.page.ready\",\"ext.gadget.ReferenceTooltips\",\"ext.gadget.charinsert\",\"ext.gadget.extra-toolbar-buttons\",\"ext.gadget.refToolbar\",\\n\"ext.gadget.switcher\",\"ext.centralauth.centralautologin\",\"ext.popups\",\"ext.visualEditor.desktopArticleTarget.init\",\"ext.visualEditor.targetLoader\",\"ext.eventLogging\",\"ext.wikimediaEvents\",\"ext.navigationTiming\",\"ext.uls.compactlinks\",\"ext.uls.interface\",\"ext.cx.eventlogging.campaigns\",\"ext.centralNotice.geoIP\"];</script>\\n<script>(RLQ=window.RLQ||[]).push(function(){mw.loader.implement(\"user.options@1hzgi\",function($,jQuery,require,module){/*@nomin*/mw.user.tokens.set({\"patrolToken\":\"+\\\\\\\\\",\"watchToken\":\"+\\\\\\\\\",\"csrfToken\":\"+\\\\\\\\\"});\\n});});</script>\\n<link rel=\"stylesheet\" href=\"/w/load.php?lang=en&amp;modules=ext.pygments%2CwikimediaBadges%7Cext.uls.interlanguage%7Cext.visualEditor.desktopArticleTarget.noscript%7Cmediawiki.apipretty%7Cmediawiki.skinning.interface&amp;only=styles&amp;skin=apioutput\"/>\\n<script async=\"\" src=\"/w/load.php?lang=en&amp;modules=startup&amp;only=scripts&amp;raw=1&amp;skin=apioutput\"></script>\\n<meta name=\"ResourceLoaderDynamicStyles\" content=\"\"/>\\n<link rel=\"stylesheet\" href=\"/w/load.php?lang=en&amp;modules=site.styles&amp;only=styles&amp;skin=apioutput\"/>\\n<meta name=\"generator\" content=\"MediaWiki 1.36.0-wmf.16\"/>\\n<meta name=\"referrer\" content=\"origin\"/>\\n<meta name=\"referrer\" content=\"origin-when-crossorigin\"/>\\n<meta name=\"referrer\" content=\"origin-when-cross-origin\"/>\\n<meta name=\"robots\" content=\"noindex,nofollow\"/>\\n<link rel=\"alternate\" media=\"only screen and (max-width: 720px)\" href=\"//en.m.wikipedia.org/wiki/Special:ApiHelp\"/>\\n<link rel=\"apple-touch-icon\" href=\"/static/apple-touch/wikipedia.png\"/>\\n<link rel=\"shortcut icon\" href=\"/static/favicon/wikipedia.ico\"/>\\n<link rel=\"search\" type=\"application/opensearchdescription+xml\" href=\"/w/opensearch_desc.php\" title=\"Wikipedia (en)\"/>\\n<link rel=\"EditURI\" type=\"application/rsd+xml\" href=\"//en.wikipedia.org/w/api.php?action=rsd\"/>\\n<link rel=\"license\" href=\"//creativecommons.org/licenses/by-sa/3.0/\"/>\\n<link rel=\"canonical\" href=\"https://en.wikipedia.org/wiki/Special:ApiHelp\"/>\\n<link rel=\"dns-prefetch\" href=\"//login.wikimedia.org\"/>\\n</head>\\n<body class=\"mediawiki ltr sitedir-ltr mw-hide-empty-elt ns--1 ns-special mw-special-ApiHelp page-Special_ApiHelp rootpage-Special_ApiHelp skin-apioutput action-view\"><div class=\"mw-body\" role=\"main\">\\n\\t<h1 id=\"firstHeading\">MediaWiki API result</h1>\\n\\t<div class=\"mw-body-content\">\\n\\t\\t<div id=\"mw-content-text\"><div class=\"api-pretty-header\"><p>This is the HTML representation of the JSON format. HTML is good for debugging, but is unsuitable for application use.\\n</p><p>Specify the <var>format</var> parameter to change the output format. To see the non-HTML representation of the JSON format, set <a class=\"external text\" href=\"https://en.wikipedia.org/w/api.php?action=query&amp;prop=extracts&amp;titles=List_of_2020_box_office_number-one_films_in_the_United_States&amp;explaintext=1&amp;exsectionformat=wiki&amp;format=json\"><kbd>format=json</kbd></a>.\\n</p><p>See the <a href=\"https://www.mediawiki.org/wiki/API\" class=\"extiw\" title=\"mw:API\">complete documentation</a>, or the <a href=\"/w/api.php?action=help&amp;modules=main\">API help</a> for more information.\\n</p></div><div dir=\"ltr\"><div class=\"mw-highlight\"><pre><span></span><span class=\"p\">{</span>\\n    <span class=\"s2\">&quot;batchcomplete&quot;</span><span class=\"o\">:</span> <span class=\"s2\">&quot;&quot;</span><span class=\"p\">,</span>\\n    <span class=\"s2\">&quot;query&quot;</span><span class=\"o\">:</span> <span class=\"p\">{</span>\\n        <span class=\"s2\">&quot;normalized&quot;</span><span class=\"o\">:</span> <span class=\"p\">[</span>\\n            <span class=\"p\">{</span>\\n                <span class=\"s2\">&quot;from&quot;</span><span class=\"o\">:</span> <span class=\"s2\">&quot;List_of_2020_box_office_number-one_films_in_the_United_States&quot;</span><span class=\"p\">,</span>\\n                <span class=\"s2\">&quot;to&quot;</span><span class=\"o\">:</span> <span class=\"s2\">&quot;List of 2020 box office number-one films in the United States&quot;</span>\\n            <span class=\"p\">}</span>\\n        <span class=\"p\">],</span>\\n        <span class=\"s2\">&quot;pages&quot;</span><span class=\"o\">:</span> <span class=\"p\">{</span>\\n            <span class=\"s2\">&quot;62751866&quot;</span><span class=\"o\">:</span> <span class=\"p\">{</span>\\n                <span class=\"s2\">&quot;pageid&quot;</span><span class=\"o\">:</span> <span class=\"mi\">62751866</span><span class=\"p\">,</span>\\n                <span class=\"s2\">&quot;ns&quot;</span><span class=\"o\">:</span> <span class=\"mi\">0</span><span class=\"p\">,</span>\\n                <span class=\"s2\">&quot;title&quot;</span><span class=\"o\">:</span> <span class=\"s2\">&quot;List of 2020 box office number-one films in the United States&quot;</span><span class=\"p\">,</span>\\n                <span class=\"s2\">&quot;extract&quot;</span><span class=\"o\">:</span> <span class=\"s2\">&quot;This is a list of films which placed number one at the weekend box office for the year 2020.\\\\n\\\\n\\\\n== Number-one films ==\\\\n\\\\n\\\\n== Highest-grossing films ==\\\\n\\\\n\\\\n=== Calendar Gross ===\\\\nHighest-grossing films of 2020 by Calendar Gross\\\\n\\\\n\\\\n=== In-Year Release ===\\\\n\\\\n\\\\n== References ==\\\\n\\\\n\\\\n== See also ==\\\\nList of American films \\\\u2014 American films by year\\\\nLists of box office number-one films&quot;</span>\\n            <span class=\"p\">}</span>\\n        <span class=\"p\">}</span>\\n    <span class=\"p\">}</span>\\n<span class=\"p\">}</span>\\n</pre></div>\\n</div><noscript><img src=\"//en.wikipedia.org/wiki/Special:CentralAutoLogin/start?type=1x1\" alt=\"\" title=\"\" width=\"1\" height=\"1\" style=\"border: none; position: absolute;\" /></noscript>\\n<div class=\"printfooter\">Retrieved from \"<a dir=\"ltr\" href=\"https://en.wikipedia.org/wiki/Special:ApiHelp\">https://en.wikipedia.org/wiki/Special:ApiHelp</a>\"</div></div>\\n\\t</div>\\n</div>\\n\\n<script>(RLQ=window.RLQ||[]).push(function(){mw.config.set({\"wgBackendResponseTime\":453,\"wgHostname\":\"mw1392\"});});</script>\\n</body></html>'"
      ]
     },
     "execution_count": 39,
     "metadata": {},
     "output_type": "execute_result"
    }
   ],
   "source": [
    "response.text"
   ]
  },
  {
   "cell_type": "code",
   "execution_count": 2,
   "metadata": {},
   "outputs": [
    {
     "name": "stdout",
     "output_type": "stream",
     "text": [
      "41739d685378e320bbbd0a7f70800c145faa2c86+\\\n"
     ]
    }
   ],
   "source": [
    "#!/usr/bin/python3\n",
    "\n",
    "\"\"\"\n",
    "    tokens.py\n",
    "    MediaWiki API Demos\n",
    "    Demo of `Token` module: Fetch token of type `login`\n",
    "    MIT License\n",
    "\"\"\"\n",
    "\n",
    "import requests\n",
    "\n",
    "S = requests.Session()\n",
    "\n",
    "URL = \"https://www.mediawiki.org/w/api.php\"\n",
    "\n",
    "PARAMS = {\n",
    "    \"action\": \"query\",\n",
    "    \"meta\": \"tokens\",\n",
    "    \"type\": \"login\",\n",
    "    \"format\": \"json\"\n",
    "}\n",
    "\n",
    "R = S.get(url=URL, params=PARAMS)\n",
    "DATA = R.json()\n",
    "\n",
    "LOGIN_TOKEN = DATA['query']['tokens']['logintoken']\n",
    "\n",
    "print(LOGIN_TOKEN)"
   ]
  },
  {
   "cell_type": "code",
   "execution_count": 5,
   "metadata": {
    "scrolled": true
   },
   "outputs": [
    {
     "name": "stdout",
     "output_type": "stream",
     "text": [
      "Requirement already satisfied: wikipedia in /Users/sandrawelbeck/opt/anaconda3/envs/learn-env/lib/python3.6/site-packages (1.4.0)\n",
      "Requirement already satisfied: beautifulsoup4 in /Users/sandrawelbeck/opt/anaconda3/envs/learn-env/lib/python3.6/site-packages (from wikipedia) (4.8.2)\n",
      "Requirement already satisfied: requests<3.0.0,>=2.0.0 in /Users/sandrawelbeck/opt/anaconda3/envs/learn-env/lib/python3.6/site-packages (from wikipedia) (2.24.0)\n",
      "Requirement already satisfied: soupsieve>=1.2 in /Users/sandrawelbeck/opt/anaconda3/envs/learn-env/lib/python3.6/site-packages (from beautifulsoup4->wikipedia) (2.0.1)\n",
      "Requirement already satisfied: chardet<4,>=3.0.2 in /Users/sandrawelbeck/opt/anaconda3/envs/learn-env/lib/python3.6/site-packages (from requests<3.0.0,>=2.0.0->wikipedia) (3.0.4)\n",
      "Requirement already satisfied: certifi>=2017.4.17 in /Users/sandrawelbeck/opt/anaconda3/envs/learn-env/lib/python3.6/site-packages (from requests<3.0.0,>=2.0.0->wikipedia) (2020.6.20)\n",
      "Requirement already satisfied: idna<3,>=2.5 in /Users/sandrawelbeck/opt/anaconda3/envs/learn-env/lib/python3.6/site-packages (from requests<3.0.0,>=2.0.0->wikipedia) (2.10)\n",
      "Requirement already satisfied: urllib3!=1.25.0,!=1.25.1,<1.26,>=1.21.1 in /Users/sandrawelbeck/opt/anaconda3/envs/learn-env/lib/python3.6/site-packages (from requests<3.0.0,>=2.0.0->wikipedia) (1.25.10)\n"
     ]
    }
   ],
   "source": [
    "!pip install wikipedia"
   ]
  },
  {
   "cell_type": "code",
   "execution_count": 8,
   "metadata": {},
   "outputs": [],
   "source": [
    "import wikipedia"
   ]
  },
  {
   "cell_type": "code",
   "execution_count": 12,
   "metadata": {},
   "outputs": [
    {
     "name": "stdout",
     "output_type": "stream",
     "text": [
      "['Box office', 'Box-office bomb', 'Box Office Mojo', 'Lists of box office number-one films', 'List of biggest box-office bombs', 'Sky Box Office', 'Box Office India', 'Post office box', 'Black Panther (film)', 'List of 1995 box office number-one films in the United Kingdom']\n"
     ]
    }
   ],
   "source": [
    "print(wikipedia.search(\"box office\"))"
   ]
  },
  {
   "cell_type": "code",
   "execution_count": 15,
   "metadata": {},
   "outputs": [
    {
     "data": {
      "text/plain": [
       "str"
      ]
     },
     "execution_count": 15,
     "metadata": {},
     "output_type": "execute_result"
    }
   ],
   "source": [
    "type(wikipedia.search(\"box office\")[3])"
   ]
  },
  {
   "cell_type": "code",
   "execution_count": 16,
   "metadata": {},
   "outputs": [
    {
     "name": "stdout",
     "output_type": "stream",
     "text": [
      "Collecting wikipedia-api\n",
      "  Downloading Wikipedia-API-0.5.4.tar.gz (18 kB)\n",
      "Requirement already satisfied: requests in /Users/sandrawelbeck/opt/anaconda3/envs/learn-env/lib/python3.6/site-packages (from wikipedia-api) (2.24.0)\n",
      "Requirement already satisfied: urllib3!=1.25.0,!=1.25.1,<1.26,>=1.21.1 in /Users/sandrawelbeck/opt/anaconda3/envs/learn-env/lib/python3.6/site-packages (from requests->wikipedia-api) (1.25.10)\n",
      "Requirement already satisfied: chardet<4,>=3.0.2 in /Users/sandrawelbeck/opt/anaconda3/envs/learn-env/lib/python3.6/site-packages (from requests->wikipedia-api) (3.0.4)\n",
      "Requirement already satisfied: idna<3,>=2.5 in /Users/sandrawelbeck/opt/anaconda3/envs/learn-env/lib/python3.6/site-packages (from requests->wikipedia-api) (2.10)\n",
      "Requirement already satisfied: certifi>=2017.4.17 in /Users/sandrawelbeck/opt/anaconda3/envs/learn-env/lib/python3.6/site-packages (from requests->wikipedia-api) (2020.6.20)\n",
      "Building wheels for collected packages: wikipedia-api\n",
      "  Building wheel for wikipedia-api (setup.py) ... \u001b[?25ldone\n",
      "\u001b[?25h  Created wheel for wikipedia-api: filename=Wikipedia_API-0.5.4-py3-none-any.whl size=13462 sha256=fdd5bd6583012144fda22e4785efc408a497e6557b5c3c98cddae5dfb12241ce\n",
      "  Stored in directory: /Users/sandrawelbeck/Library/Caches/pip/wheels/df/ef/26/efdbba65d2518a939c023f11f7d60a7f5d3405d47e51bbafdd\n",
      "Successfully built wikipedia-api\n",
      "Installing collected packages: wikipedia-api\n",
      "Successfully installed wikipedia-api-0.5.4\n"
     ]
    }
   ],
   "source": [
    "!pip3 install wikipedia-api"
   ]
  },
  {
   "cell_type": "code",
   "execution_count": 17,
   "metadata": {},
   "outputs": [],
   "source": [
    "import wikipediaapi"
   ]
  },
  {
   "cell_type": "code",
   "execution_count": 40,
   "metadata": {},
   "outputs": [
    {
     "data": {
      "text/plain": [
       "Lists of box office number-one films (id: ??, ns: 0)"
      ]
     },
     "execution_count": 40,
     "metadata": {},
     "output_type": "execute_result"
    }
   ],
   "source": [
    "import wikipediaapi\n",
    "wiki_wiki = wikipediaapi.Wikipedia('en')\n",
    "\n",
    "page_movies = wiki_wiki.page('Lists of box office number-one films')\n",
    "page_movies"
   ]
  },
  {
   "cell_type": "code",
   "execution_count": 41,
   "metadata": {},
   "outputs": [
    {
     "name": "stderr",
     "output_type": "stream",
     "text": [
      "2020-11-10 16:58:04,722 Request URL: https://en.wikipedia.org/w/api.php?action=query&prop=info&titles=Lists of box office number-one films&inprop=protection|talkid|watched|watchers|visitingwatchers|notificationtimestamp|subjectid|url|readable|preload|displaytitle\n",
      "2020-11-10 16:58:05,220 Request URL: https://en.wikipedia.org/w/api.php?action=query&prop=info&titles=NonExistingPageWithStrangeName&inprop=protection|talkid|watched|watchers|visitingwatchers|notificationtimestamp|subjectid|url|readable|preload|displaytitle\n"
     ]
    },
    {
     "name": "stdout",
     "output_type": "stream",
     "text": [
      "Page - Exists: True\n",
      "Page - Exists: False\n"
     ]
    }
   ],
   "source": [
    "page_movies= wiki_wiki.page('Lists of box office number-one films')\n",
    "print(\"Page - Exists: %s\" % page_movies.exists())\n",
    "# Page - Exists: True\n",
    "\n",
    "page_missing = wiki_wiki.page('NonExistingPageWithStrangeName')\n",
    "print(\"Page - Exists: %s\" %     page_missing.exists())\n",
    "# Page - Exists: False"
   ]
  },
  {
   "cell_type": "code",
   "execution_count": 42,
   "metadata": {},
   "outputs": [
    {
     "data": {
      "text/plain": [
       "wikipediaapi.WikipediaPage"
      ]
     },
     "execution_count": 42,
     "metadata": {},
     "output_type": "execute_result"
    }
   ],
   "source": [
    "type(page_movies)"
   ]
  },
  {
   "cell_type": "code",
   "execution_count": 43,
   "metadata": {},
   "outputs": [
    {
     "name": "stderr",
     "output_type": "stream",
     "text": [
      "2020-11-10 16:58:08,238 Request URL: https://en.wikipedia.org/w/api.php?action=query&prop=extracts&titles=Lists of box office number-one films&explaintext=1&exsectionformat=wiki\n"
     ]
    },
    {
     "name": "stdout",
     "output_type": "stream",
     "text": [
      "Page - Title: Lists of box office number-one films\n",
      "Page - Summary: The following are lists of films which have been placed number one at the box office.\n"
     ]
    }
   ],
   "source": [
    "import wikipediaapi\n",
    "wiki_wiki = wikipediaapi.Wikipedia('en')\n",
    "\n",
    "print(\"Page - Title: %s\" % page_movies.title)\n",
    "\n",
    "print(\"Page - Summary: %s\" % page_movies.summary[0:200])"
   ]
  },
  {
   "cell_type": "code",
   "execution_count": null,
   "metadata": {},
   "outputs": [],
   "source": []
  },
  {
   "cell_type": "code",
   "execution_count": null,
   "metadata": {},
   "outputs": [],
   "source": []
  },
  {
   "cell_type": "code",
   "execution_count": null,
   "metadata": {},
   "outputs": [],
   "source": []
  },
  {
   "cell_type": "code",
   "execution_count": 28,
   "metadata": {},
   "outputs": [
    {
     "name": "stderr",
     "output_type": "stream",
     "text": [
      "2020-11-10 01:21:44,472 Request URL: https://en.wikipedia.org/w/api.php?action=query&prop=extracts&titles=Lists of box office number-one films&explaintext=1&exsectionformat=wiki\n"
     ]
    },
    {
     "name": "stdout",
     "output_type": "stream",
     "text": [
      "The following are lists of films which have been placed number one at the box office.\n"
     ]
    }
   ],
   "source": [
    "import wikipediaapi\n",
    "import sys\n",
    "wikipediaapi.log.setLevel(level=wikipediaapi.logging.DEBUG)\n",
    "\n",
    "# Set handler if you use Python in interactive mode\n",
    "out_hdlr = wikipediaapi.logging.StreamHandler(sys.stderr)\n",
    "out_hdlr.setFormatter(wikipediaapi.logging.Formatter('%(asctime)s %(message)s'))\n",
    "out_hdlr.setLevel(wikipediaapi.logging.DEBUG)\n",
    "wikipediaapi.log.addHandler(out_hdlr)\n",
    "\n",
    "wiki = wikipediaapi.Wikipedia(language='en')\n",
    "\n",
    "page_movies = wiki_wiki.page('Lists of box office number-one films')\n",
    "print(page_movies.summary)\n",
    "# logger prints out: Request URL: http://en.wikipedia.org/w/api.php?action=query&prop=extracts&titles=Ostrava&explaintext=1&exsectionformat=wiki"
   ]
  },
  {
   "cell_type": "code",
   "execution_count": null,
   "metadata": {},
   "outputs": [],
   "source": []
  }
 ],
 "metadata": {
  "kernelspec": {
   "display_name": "Python 3",
   "language": "python",
   "name": "python3"
  },
  "language_info": {
   "codemirror_mode": {
    "name": "ipython",
    "version": 3
   },
   "file_extension": ".py",
   "mimetype": "text/x-python",
   "name": "python",
   "nbconvert_exporter": "python",
   "pygments_lexer": "ipython3",
   "version": "3.6.9"
  },
  "toc": {
   "base_numbering": 1,
   "nav_menu": {},
   "number_sections": true,
   "sideBar": true,
   "skip_h1_title": false,
   "title_cell": "Table of Contents",
   "title_sidebar": "Contents",
   "toc_cell": false,
   "toc_position": {},
   "toc_section_display": true,
   "toc_window_display": false
  }
 },
 "nbformat": 4,
 "nbformat_minor": 4
}
