version https://git-lfs.github.com/spec/v1
oid sha256:6b8fe251ab3db7b85360317e165be641505e4005c46c69e22d6c78f496e9bff1
size 12239
