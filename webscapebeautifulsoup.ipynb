{
 "cells": [
  {
   "cell_type": "code",
   "execution_count": 25,
   "metadata": {},
   "outputs": [
    {
     "name": "stdout",
     "output_type": "stream",
     "text": [
      "<!DOCTYPE html>\n",
      "<html class=\"a-no-js\" data-19ax5a9jf=\"dingo\"><head><script>var aPageStart = (new Date()).getTime();</script><meta charset=\"utf-8\"/><meta charset=\"utf-8\"/>\n",
      "<title dir=\"ltr\">Error - Box Office Mojo</title><link href=\"https://images-na.ssl-images-amazon.com/images/I/11EIQ5IGqaL._RC|012LjolmrML.css,51jHBmo5nDL.css,51IB+wfP8qL.css,01evdoiemkL.css,01K+Ps1DeEL.css,01Vctty9pOL.css,314djKvMsUL.css,01ZTetsDh7L.css,11cMnOipjJL.css,01pbA9Lg3yL.css,21LK7jaicML.css,11L58Qpo0GL.css,21kyTi1FabL.css,01ruG+gDPFL.css,01YhS3Cs-hL.css,21GwE3cR-yL.css,11KLBtpWIAL.css,11nWWh1kQdL.css,11M4XwS6hxL.css,11WgRxUdJRL.css,01dU8+SPlFL.css,11ocrgKoE-L.css,11k89RclloL.css,11cm-8W5AzL.css,01QrWuRrZ-L.css,21pIv-yKhaL.css,01M3ZzSySfL.css,01gAR5pB+IL.css,119dKrtBoVL.css,01piEq-AdwL.css,11Z1a0FxSIL.css,01cbS3UK11L.css,21B5OR-vv2L.css,01giMEP+djL.css_.css?AUIClients/AmazonUI&amp;BUIiWFOU#us.not-trident\" rel=\"stylesheet\"/>\n",
      "<link href=\"https://images-na.ssl-images-amazon.com/images/I/51OdWf4BzRL.css?AUIClients/IMDbMojoSiteAssets\" rel=\"stylesheet\"/>\n",
      "</head><body class=\"mojo-page-id-error a-m-us a-aui_72554-c a-aui_control_group_273125-c a-aui_dropdown_274033-c a-aui_link_rel_noreferrer_noopener_274172-c a-aui_mm_desktop_exp_291916-c a-aui_mm_desktop_launch_291918-c a-aui_mm_desktop_targeted_exp_291928-c a-aui_mm_desktop_targeted_launch_291922-c a-aui_pci_risk_banner_210084-c a-aui_perf_130093-c a-aui_preload_261698-c a-aui_tnr_v2_180836-c\" id=\"body\"><div id=\"a-page\"><script data-a-state='{\"key\":\"a-wlab-states\"}' type=\"a-state\">{}</script><div class=\"a-section a-spacing-none mojo-navigation mojo-header mojo-flex mojo-flex-h\"><div class=\"a-section mojo-logo\"><a class=\"a-link-normal\" href=\"/\"></a></div><br/></div><main>\n",
      "<div class=\"a-section mojo-body\"><div class=\"a-section a-padding-large a-text-center\"><h1 class=\"a-color-tertiary\">The requested page was not found.</h1><p class=\"a-size-large a-color-tertiary\"></p></div></div></main>\n",
      "<div class=\"a-section a-spacing-none mojo-navigation-frame\"><div class=\"a-section a-spacing-none mojo-navigation mojo-footer\"></div></div></div></body></html>\n"
     ]
    }
   ],
   "source": [
    "import json\n",
    "import requests\n",
    "from bs4 import BeautifulSoup as bs\n",
    "\n",
    "url = 'https://www.boxofficemojo.com/year/2020/'\n",
    "\n",
    "\n",
    "\n",
    "# for page in range (1,12):\n",
    "page = 1\n",
    "req = requests.get(url + str(page))\n",
    "soup = bs(req.text, 'html.parser')\n",
    "print(soup)"
   ]
  },
  {
   "cell_type": "code",
   "execution_count": 26,
   "metadata": {},
   "outputs": [],
   "source": [
    "titles = soup.findAll('td', {\"class\" : \"imdb-scroll-table\"})"
   ]
  },
  {
   "cell_type": "code",
   "execution_count": 27,
   "metadata": {},
   "outputs": [
    {
     "data": {
      "text/plain": [
       "[]"
      ]
     },
     "execution_count": 27,
     "metadata": {},
     "output_type": "execute_result"
    }
   ],
   "source": [
    "titles"
   ]
  },
  {
   "cell_type": "code",
   "execution_count": null,
   "metadata": {},
   "outputs": [],
   "source": []
  },
  {
   "cell_type": "code",
   "execution_count": 28,
   "metadata": {},
   "outputs": [],
   "source": [
    "url2 = \"https://api.themoviedb.org/3/genre/movie/list?api_key=a033e140831df183efc1df7cc9e60d21&language=en-US\""
   ]
  },
  {
   "cell_type": "code",
   "execution_count": 29,
   "metadata": {},
   "outputs": [],
   "source": [
    "req = requests.get(url2)"
   ]
  },
  {
   "cell_type": "code",
   "execution_count": 30,
   "metadata": {
    "scrolled": true
   },
   "outputs": [
    {
     "data": {
      "text/plain": [
       "{'genres': [{'id': 28, 'name': 'Action'},\n",
       "  {'id': 12, 'name': 'Adventure'},\n",
       "  {'id': 16, 'name': 'Animation'},\n",
       "  {'id': 35, 'name': 'Comedy'},\n",
       "  {'id': 80, 'name': 'Crime'},\n",
       "  {'id': 99, 'name': 'Documentary'},\n",
       "  {'id': 18, 'name': 'Drama'},\n",
       "  {'id': 10751, 'name': 'Family'},\n",
       "  {'id': 14, 'name': 'Fantasy'},\n",
       "  {'id': 36, 'name': 'History'},\n",
       "  {'id': 27, 'name': 'Horror'},\n",
       "  {'id': 10402, 'name': 'Music'},\n",
       "  {'id': 9648, 'name': 'Mystery'},\n",
       "  {'id': 10749, 'name': 'Romance'},\n",
       "  {'id': 878, 'name': 'Science Fiction'},\n",
       "  {'id': 10770, 'name': 'TV Movie'},\n",
       "  {'id': 53, 'name': 'Thriller'},\n",
       "  {'id': 10752, 'name': 'War'},\n",
       "  {'id': 37, 'name': 'Western'}]}"
      ]
     },
     "execution_count": 30,
     "metadata": {},
     "output_type": "execute_result"
    }
   ],
   "source": [
    "json.loads(req.text)"
   ]
  },
  {
   "cell_type": "code",
   "execution_count": 31,
   "metadata": {},
   "outputs": [],
   "source": [
    "tvurl = \"https://api.themoviedb.org/3/genre/tv/list?api_key=a033e140831df183efc1df7cc9e60d21&language=en-US\""
   ]
  },
  {
   "cell_type": "code",
   "execution_count": 33,
   "metadata": {},
   "outputs": [],
   "source": [
    "tvreq = requests.get(tvurl)"
   ]
  },
  {
   "cell_type": "code",
   "execution_count": 35,
   "metadata": {},
   "outputs": [
    {
     "data": {
      "text/plain": [
       "{'genres': [{'id': 10759, 'name': 'Action & Adventure'},\n",
       "  {'id': 16, 'name': 'Animation'},\n",
       "  {'id': 35, 'name': 'Comedy'},\n",
       "  {'id': 80, 'name': 'Crime'},\n",
       "  {'id': 99, 'name': 'Documentary'},\n",
       "  {'id': 18, 'name': 'Drama'},\n",
       "  {'id': 10751, 'name': 'Family'},\n",
       "  {'id': 10762, 'name': 'Kids'},\n",
       "  {'id': 9648, 'name': 'Mystery'},\n",
       "  {'id': 10763, 'name': 'News'},\n",
       "  {'id': 10764, 'name': 'Reality'},\n",
       "  {'id': 10765, 'name': 'Sci-Fi & Fantasy'},\n",
       "  {'id': 10766, 'name': 'Soap'},\n",
       "  {'id': 10767, 'name': 'Talk'},\n",
       "  {'id': 10768, 'name': 'War & Politics'},\n",
       "  {'id': 37, 'name': 'Western'}]}"
      ]
     },
     "execution_count": 35,
     "metadata": {},
     "output_type": "execute_result"
    }
   ],
   "source": [
    "json.loads(tvreq.text)"
   ]
  },
  {
   "cell_type": "code",
   "execution_count": null,
   "metadata": {},
   "outputs": [],
   "source": []
  }
 ],
 "metadata": {
  "kernelspec": {
   "display_name": "Python 3",
   "language": "python",
   "name": "python3"
  },
  "language_info": {
   "codemirror_mode": {
    "name": "ipython",
    "version": 3
   },
   "file_extension": ".py",
   "mimetype": "text/x-python",
   "name": "python",
   "nbconvert_exporter": "python",
   "pygments_lexer": "ipython3",
   "version": "3.6.9"
  },
  "toc": {
   "base_numbering": 1,
   "nav_menu": {},
   "number_sections": true,
   "sideBar": true,
   "skip_h1_title": false,
   "title_cell": "Table of Contents",
   "title_sidebar": "Contents",
   "toc_cell": false,
   "toc_position": {},
   "toc_section_display": true,
   "toc_window_display": false
  }
 },
 "nbformat": 4,
 "nbformat_minor": 4
}
